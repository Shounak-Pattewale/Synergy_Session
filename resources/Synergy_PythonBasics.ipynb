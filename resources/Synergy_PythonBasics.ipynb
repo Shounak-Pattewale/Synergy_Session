{
  "nbformat": 4,
  "nbformat_minor": 0,
  "metadata": {
    "colab": {
      "name": "Synergy_PythonBasics.ipynb",
      "provenance": [],
      "collapsed_sections": []
    },
    "kernelspec": {
      "name": "python3",
      "display_name": "Python 3"
    },
    "language_info": {
      "name": "python"
    }
  },
  "cells": [
    {
      "cell_type": "markdown",
      "metadata": {
        "id": "cfKSochP1i5x"
      },
      "source": [
        "# **Python Datatypes**\n",
        "\n",
        "**Text Type:** str <br>\n",
        "**Numeric Types:**\tint, float, complex<br>\n",
        "**Sequence Types:**\tlist, tuple, range<br>\n",
        "**Mapping Type:**\tdict<br>\n",
        "**Set Types:**\tset, frozenset<br>\n",
        "**Boolean Type:**\tbool<br>\n",
        "**Binary Types:**\tbytes, bytearray, memoryview"
      ]
    },
    {
      "cell_type": "code",
      "metadata": {
        "id": "DxM4BmJm1Gsa",
        "colab": {
          "base_uri": "https://localhost:8080/"
        },
        "outputId": "08c16377-b69d-424f-b39e-7deee5bf4d40"
      },
      "source": [
        "# int\n",
        "a = 5\n",
        "type(a)"
      ],
      "execution_count": null,
      "outputs": [
        {
          "output_type": "execute_result",
          "data": {
            "text/plain": [
              "int"
            ]
          },
          "metadata": {
            "tags": []
          },
          "execution_count": 1
        }
      ]
    },
    {
      "cell_type": "code",
      "metadata": {
        "id": "M6YxyJUk2MsV",
        "colab": {
          "base_uri": "https://localhost:8080/"
        },
        "outputId": "9d4a1f38-49ac-4322-c283-7cb4c4c1a00a"
      },
      "source": [
        "# float\n",
        "pi = 3.1415\n",
        "type(pi)"
      ],
      "execution_count": null,
      "outputs": [
        {
          "output_type": "execute_result",
          "data": {
            "text/plain": [
              "float"
            ]
          },
          "metadata": {
            "tags": []
          },
          "execution_count": 2
        }
      ]
    },
    {
      "cell_type": "code",
      "metadata": {
        "id": "pnZQRaTE1-af",
        "colab": {
          "base_uri": "https://localhost:8080/"
        },
        "outputId": "9d3eb9c5-a509-411f-d939-7419decab2e4"
      },
      "source": [
        "# string\n",
        "name = \"Synergy\"\n",
        "type(name)"
      ],
      "execution_count": null,
      "outputs": [
        {
          "output_type": "execute_result",
          "data": {
            "text/plain": [
              "str"
            ]
          },
          "metadata": {
            "tags": []
          },
          "execution_count": 3
        }
      ]
    },
    {
      "cell_type": "code",
      "metadata": {
        "id": "Kt_5GAf3-kLM"
      },
      "source": [
        "com = \n",
        "\n",
        "type(complex(com))"
      ],
      "execution_count": null,
      "outputs": []
    },
    {
      "cell_type": "markdown",
      "metadata": {
        "id": "_WRy4OoFizsT"
      },
      "source": [
        "**Type Casting**"
      ]
    },
    {
      "cell_type": "code",
      "metadata": {
        "id": "023IRI4l2aDU"
      },
      "source": [
        "# int to float\n",
        "A = float(a)\n",
        "# print(type(A), A)\n",
        "\n",
        "# ERROR : string to float or int\n",
        "Name = float(name)\n",
        "type(Name)"
      ],
      "execution_count": null,
      "outputs": []
    },
    {
      "cell_type": "code",
      "metadata": {
        "id": "kAcT0Zjp2y7-",
        "colab": {
          "base_uri": "https://localhost:8080/"
        },
        "outputId": "8d442b57-15eb-49bd-9bad-ff0eacfd391d"
      },
      "source": [
        "# float to int\n",
        "Pi = int(pi)\n",
        "print(Pi)"
      ],
      "execution_count": null,
      "outputs": [
        {
          "output_type": "stream",
          "text": [
            "3\n"
          ],
          "name": "stdout"
        }
      ]
    },
    {
      "cell_type": "code",
      "metadata": {
        "id": "3xadYMiW3GZC",
        "colab": {
          "base_uri": "https://localhost:8080/"
        },
        "outputId": "b9e41c07-407e-4255-91ff-bd54e2762c02"
      },
      "source": [
        "# string number to float\n",
        "PI = \"3.1415\"\n",
        "print(float(PI))\n",
        "\n",
        "# ERROR : string number to int\n",
        "# print(int(PI))"
      ],
      "execution_count": null,
      "outputs": [
        {
          "output_type": "stream",
          "text": [
            "3.1415\n"
          ],
          "name": "stdout"
        }
      ]
    },
    {
      "cell_type": "code",
      "metadata": {
        "id": "bRhT3Bt33d0R"
      },
      "source": [
        "# ERROR\n",
        "N = \"Synergy\"\n",
        "print(int(N))\n",
        "print(float(N))"
      ],
      "execution_count": null,
      "outputs": []
    },
    {
      "cell_type": "markdown",
      "metadata": {
        "id": "ma4CkW8iku7v"
      },
      "source": [
        "**Variable** **Assignment**"
      ]
    },
    {
      "cell_type": "code",
      "metadata": {
        "id": "0GrHnWDe3gdL",
        "colab": {
          "base_uri": "https://localhost:8080/"
        },
        "outputId": "ee021e81-b376-4697-e942-e6a6ba19f710"
      },
      "source": [
        "x, y, z = \"Orange\", \"Banana\", \"Cherry\"\n",
        "\n",
        "y, x = x, y\n",
        "\n",
        "print(x, y)"
      ],
      "execution_count": null,
      "outputs": [
        {
          "output_type": "stream",
          "text": [
            "Banana Orange\n"
          ],
          "name": "stdout"
        }
      ]
    },
    {
      "cell_type": "code",
      "metadata": {
        "id": "zUsPNnqI4zN2",
        "colab": {
          "base_uri": "https://localhost:8080/",
          "height": 52
        },
        "outputId": "07965d1c-65d2-49ce-ae83-4fbe29c1e712"
      },
      "source": [
        "# btech_year = input(\"Enter your B.tech year: \")\n",
        "# btech_year\n",
        "# # print(type(btech_year))\n",
        "# # print(int(btech_year))"
      ],
      "execution_count": null,
      "outputs": [
        {
          "output_type": "stream",
          "text": [
            "Enter your B.tech year: 3\n"
          ],
          "name": "stdout"
        },
        {
          "output_type": "execute_result",
          "data": {
            "application/vnd.google.colaboratory.intrinsic+json": {
              "type": "string"
            },
            "text/plain": [
              "'3'"
            ]
          },
          "metadata": {
            "tags": []
          },
          "execution_count": 25
        }
      ]
    },
    {
      "cell_type": "code",
      "metadata": {
        "id": "veG_nVm95srI",
        "colab": {
          "base_uri": "https://localhost:8080/",
          "height": 246
        },
        "outputId": "44340315-d7b3-403a-ab89-daeb12ecc585"
      },
      "source": [
        "flag = False\n",
        "year = int(input(\"Enter your B.tech year: \"))\n",
        "\n",
        "if year == 3:\n",
        "  print(\"Pre final year\")\n",
        "elif year == 2:\n",
        "  print(\"2 more years to go\")\n",
        "elif year == 1:\n",
        "  print(\"3 more years to go\")\n",
        "else:\n",
        "  print(\"Graduated\")"
      ],
      "execution_count": null,
      "outputs": [
        {
          "output_type": "stream",
          "text": [
            "Enter your B.tech year: tytuy\n"
          ],
          "name": "stdout"
        },
        {
          "output_type": "error",
          "ename": "ValueError",
          "evalue": "ignored",
          "traceback": [
            "\u001b[0;31m---------------------------------------------------------------------------\u001b[0m",
            "\u001b[0;31mValueError\u001b[0m                                Traceback (most recent call last)",
            "\u001b[0;32m<ipython-input-28-0938114b4d27>\u001b[0m in \u001b[0;36m<module>\u001b[0;34m()\u001b[0m\n\u001b[1;32m      1\u001b[0m \u001b[0mflag\u001b[0m \u001b[0;34m=\u001b[0m \u001b[0;32mFalse\u001b[0m\u001b[0;34m\u001b[0m\u001b[0;34m\u001b[0m\u001b[0m\n\u001b[0;32m----> 2\u001b[0;31m \u001b[0myear\u001b[0m \u001b[0;34m=\u001b[0m \u001b[0mint\u001b[0m\u001b[0;34m(\u001b[0m\u001b[0minput\u001b[0m\u001b[0;34m(\u001b[0m\u001b[0;34m\"Enter your B.tech year: \"\u001b[0m\u001b[0;34m)\u001b[0m\u001b[0;34m)\u001b[0m\u001b[0;34m\u001b[0m\u001b[0;34m\u001b[0m\u001b[0m\n\u001b[0m\u001b[1;32m      3\u001b[0m \u001b[0;34m\u001b[0m\u001b[0m\n\u001b[1;32m      4\u001b[0m \u001b[0;32mif\u001b[0m \u001b[0myear\u001b[0m \u001b[0;34m==\u001b[0m \u001b[0;36m3\u001b[0m\u001b[0;34m:\u001b[0m\u001b[0;34m\u001b[0m\u001b[0;34m\u001b[0m\u001b[0m\n\u001b[1;32m      5\u001b[0m   \u001b[0mprint\u001b[0m\u001b[0;34m(\u001b[0m\u001b[0;34m\"Pre final year\"\u001b[0m\u001b[0;34m)\u001b[0m\u001b[0;34m\u001b[0m\u001b[0;34m\u001b[0m\u001b[0m\n",
            "\u001b[0;31mValueError\u001b[0m: invalid literal for int() with base 10: 'tytuy'"
          ]
        }
      ]
    },
    {
      "cell_type": "code",
      "metadata": {
        "id": "AJ_Dezr46PYI",
        "colab": {
          "base_uri": "https://localhost:8080/"
        },
        "outputId": "25611fba-a5a8-4791-bc3c-714ae6882f1b"
      },
      "source": [
        "# range(start, stop, step)\n",
        "# (1,7,2)\n",
        "# (0, -10, -3)\n",
        "# (0, 5)\n",
        "# (50, 10, -5)\n",
        "for i in range(0, 5):\n",
        "  print(i)"
      ],
      "execution_count": null,
      "outputs": [
        {
          "output_type": "stream",
          "text": [
            "0\n",
            "1\n",
            "2\n",
            "3\n",
            "4\n"
          ],
          "name": "stdout"
        }
      ]
    },
    {
      "cell_type": "markdown",
      "metadata": {
        "id": "A6hz9HQtlUgg"
      },
      "source": [
        "# **Built-in Datatypes**"
      ]
    },
    {
      "cell_type": "markdown",
      "metadata": {
        "id": "0oYqsaKTlQKZ"
      },
      "source": [
        "**Variable Assignment**"
      ]
    },
    {
      "cell_type": "code",
      "metadata": {
        "id": "WUbOQI8139bR",
        "colab": {
          "base_uri": "https://localhost:8080/"
        },
        "outputId": "9bbd5fe5-46d8-46cf-9075-36348296aa82"
      },
      "source": [
        "fruits = [\"apple\", \"banana\", \"cherry\"]\n",
        "x, y, z = fruits\n",
        "\n",
        "print(x, y, z)"
      ],
      "execution_count": null,
      "outputs": [
        {
          "output_type": "stream",
          "text": [
            "apple banana cherry\n"
          ],
          "name": "stdout"
        }
      ]
    },
    {
      "cell_type": "markdown",
      "metadata": {
        "id": "oDhyJsxZkA4K"
      },
      "source": [
        "# **List**\n",
        "List items are ordered, changeable, and allow duplicate values. <br>\n",
        "List items are indexed, the first item has index [0], the second item has index [1] etc.<br><br>\n",
        "Like arrays in other languages we have lists in python."
      ]
    },
    {
      "cell_type": "code",
      "metadata": {
        "id": "o1ommyE6-MCY",
        "colab": {
          "base_uri": "https://localhost:8080/"
        },
        "outputId": "8e02ebd4-fe9b-43ef-96f4-37288af498f7"
      },
      "source": [
        "x = [\"a\", \"b\", \"c\", \"d\"]\n",
        "print(type(x)) \n",
        "# From Python's perspective, lists are defined as objects with the data type 'list'\n",
        "\n",
        "# for i in x:\n",
        "#   print(i)\n",
        "  \n",
        "for i in range(len(x)):\n",
        "  print(i, x[i])"
      ],
      "execution_count": null,
      "outputs": [
        {
          "output_type": "stream",
          "text": [
            "<class 'list'>\n",
            "0 a\n",
            "1 b\n",
            "2 c\n",
            "3 d\n"
          ],
          "name": "stdout"
        }
      ]
    },
    {
      "cell_type": "code",
      "metadata": {
        "id": "M2i75icRAnaY",
        "colab": {
          "base_uri": "https://localhost:8080/",
          "height": 35
        },
        "outputId": "10194d55-f803-4beb-e6a2-e33caea46a1e"
      },
      "source": [
        "# accessing element\n",
        "x[0]"
      ],
      "execution_count": null,
      "outputs": [
        {
          "output_type": "execute_result",
          "data": {
            "application/vnd.google.colaboratory.intrinsic+json": {
              "type": "string"
            },
            "text/plain": [
              "'a'"
            ]
          },
          "metadata": {
            "tags": []
          },
          "execution_count": 3
        }
      ]
    },
    {
      "cell_type": "code",
      "metadata": {
        "id": "kIbhTQL6DADu"
      },
      "source": [
        "# reverse\n",
        "x.sort(reverse=True)"
      ],
      "execution_count": null,
      "outputs": []
    },
    {
      "cell_type": "code",
      "metadata": {
        "id": "1PHBum9xAL_c",
        "colab": {
          "base_uri": "https://localhost:8080/"
        },
        "outputId": "4b29a84d-2a5c-43ff-f992-f9901a238c5c"
      },
      "source": [
        "# append\n",
        "x.append(2)\n",
        "x"
      ],
      "execution_count": null,
      "outputs": [
        {
          "output_type": "execute_result",
          "data": {
            "text/plain": [
              "['d', 'c', 'b', 'a', 2]"
            ]
          },
          "metadata": {
            "tags": []
          },
          "execution_count": 5
        }
      ]
    },
    {
      "cell_type": "code",
      "metadata": {
        "id": "4m0ae6vlCtBh"
      },
      "source": [
        "# Copy list\n",
        "list1 = x # copies the address\n",
        "list2 = x[:]"
      ],
      "execution_count": null,
      "outputs": []
    },
    {
      "cell_type": "code",
      "metadata": {
        "colab": {
          "base_uri": "https://localhost:8080/"
        },
        "id": "X2EczCP79KYe",
        "outputId": "b7ebf85e-ef70-44f5-ab64-0d21e6fd90cb"
      },
      "source": [
        "list1.append('t')\n",
        "x"
      ],
      "execution_count": null,
      "outputs": [
        {
          "output_type": "execute_result",
          "data": {
            "text/plain": [
              "['d', 'c', 'b', 'a', 2, 't']"
            ]
          },
          "metadata": {
            "tags": []
          },
          "execution_count": 7
        }
      ]
    },
    {
      "cell_type": "code",
      "metadata": {
        "colab": {
          "base_uri": "https://localhost:8080/"
        },
        "id": "IBzREwjd9SgE",
        "outputId": "6cad14f7-7e44-4e93-905c-c14ad366d49c"
      },
      "source": [
        "list2.append(6)\n",
        "x"
      ],
      "execution_count": null,
      "outputs": [
        {
          "output_type": "execute_result",
          "data": {
            "text/plain": [
              "['d', 'c', 'b', 'a', 2, 't']"
            ]
          },
          "metadata": {
            "tags": []
          },
          "execution_count": 9
        }
      ]
    },
    {
      "cell_type": "code",
      "metadata": {
        "id": "NskIZKN_Ajak"
      },
      "source": [
        "# Pop\n",
        "x.pop()\n",
        "x"
      ],
      "execution_count": null,
      "outputs": []
    },
    {
      "cell_type": "code",
      "metadata": {
        "id": "Qxn_FKHiAkkH",
        "colab": {
          "base_uri": "https://localhost:8080/"
        },
        "outputId": "e8859521-b655-462f-aa62-4b1fa9b015b7"
      },
      "source": [
        "# Insert at location, shifts elements to right\n",
        "x.insert(2, \"joker\")\n",
        "x"
      ],
      "execution_count": null,
      "outputs": [
        {
          "output_type": "execute_result",
          "data": {
            "text/plain": [
              "['a', 'b', 'joker', 'c', 'd', 2, 2]"
            ]
          },
          "metadata": {
            "tags": []
          },
          "execution_count": 43
        }
      ]
    },
    {
      "cell_type": "code",
      "metadata": {
        "id": "TZs_SJGJA6TC",
        "colab": {
          "base_uri": "https://localhost:8080/"
        },
        "outputId": "b32b2f3b-5b65-49ea-fdc8-0cffd5f41120"
      },
      "source": [
        "# Delete element from loaction\n",
        "del x[2]\n",
        "x"
      ],
      "execution_count": null,
      "outputs": [
        {
          "output_type": "execute_result",
          "data": {
            "text/plain": [
              "['a', 'b', 'c', 'd', 2, 2]"
            ]
          },
          "metadata": {
            "tags": []
          },
          "execution_count": 44
        }
      ]
    },
    {
      "cell_type": "code",
      "metadata": {
        "id": "xU1fsDgfBHeb",
        "colab": {
          "base_uri": "https://localhost:8080/"
        },
        "outputId": "9e6f653e-f561-43cb-b534-13d80c034cbb"
      },
      "source": [
        "x[2:4]"
      ],
      "execution_count": null,
      "outputs": [
        {
          "output_type": "execute_result",
          "data": {
            "text/plain": [
              "['c', 'd']"
            ]
          },
          "metadata": {
            "tags": []
          },
          "execution_count": 45
        }
      ]
    },
    {
      "cell_type": "code",
      "metadata": {
        "id": "VKQYVEivBZtt",
        "colab": {
          "base_uri": "https://localhost:8080/"
        },
        "outputId": "c2333923-ef55-4a2b-ea23-98196acddde7"
      },
      "source": [
        "# Remove\n",
        "x.remove(2)\n",
        "x"
      ],
      "execution_count": null,
      "outputs": [
        {
          "output_type": "execute_result",
          "data": {
            "text/plain": [
              "['a', 'b', 'c', 'd', 2]"
            ]
          },
          "metadata": {
            "tags": []
          },
          "execution_count": 46
        }
      ]
    },
    {
      "cell_type": "code",
      "metadata": {
        "id": "JqFOle3vBiNq",
        "colab": {
          "base_uri": "https://localhost:8080/"
        },
        "outputId": "4124483e-7fc6-4c34-abc8-99aba7a05ec5"
      },
      "source": [
        "y = x.copy()\n",
        "y"
      ],
      "execution_count": null,
      "outputs": [
        {
          "output_type": "execute_result",
          "data": {
            "text/plain": [
              "['a', 'b', 'c', 'd', 2]"
            ]
          },
          "metadata": {
            "tags": []
          },
          "execution_count": 47
        }
      ]
    },
    {
      "cell_type": "code",
      "metadata": {
        "id": "kJxE9eNHBmfg",
        "colab": {
          "base_uri": "https://localhost:8080/"
        },
        "outputId": "09b31b7e-f633-45c4-8a00-ee430992cc04"
      },
      "source": [
        "x.clear()\n",
        "x"
      ],
      "execution_count": null,
      "outputs": [
        {
          "output_type": "execute_result",
          "data": {
            "text/plain": [
              "[]"
            ]
          },
          "metadata": {
            "tags": []
          },
          "execution_count": 48
        }
      ]
    },
    {
      "cell_type": "code",
      "metadata": {
        "colab": {
          "base_uri": "https://localhost:8080/",
          "height": 178
        },
        "id": "jJYklBxxTX1E",
        "outputId": "7a03e428-5a93-40a5-9e4b-927b2e55c6a7"
      },
      "source": [
        "del x\n",
        "x"
      ],
      "execution_count": null,
      "outputs": [
        {
          "output_type": "error",
          "ename": "NameError",
          "evalue": "ignored",
          "traceback": [
            "\u001b[0;31m---------------------------------------------------------------------------\u001b[0m",
            "\u001b[0;31mNameError\u001b[0m                                 Traceback (most recent call last)",
            "\u001b[0;32m<ipython-input-50-1beca76b84e9>\u001b[0m in \u001b[0;36m<module>\u001b[0;34m()\u001b[0m\n\u001b[0;32m----> 1\u001b[0;31m \u001b[0;32mdel\u001b[0m \u001b[0mx\u001b[0m\u001b[0;34m\u001b[0m\u001b[0;34m\u001b[0m\u001b[0m\n\u001b[0m\u001b[1;32m      2\u001b[0m \u001b[0mx\u001b[0m\u001b[0;34m\u001b[0m\u001b[0;34m\u001b[0m\u001b[0m\n",
            "\u001b[0;31mNameError\u001b[0m: name 'x' is not defined"
          ]
        }
      ]
    },
    {
      "cell_type": "markdown",
      "metadata": {
        "id": "C_1WKdtawN8G"
      },
      "source": [
        "# **Dictionary**"
      ]
    },
    {
      "cell_type": "code",
      "metadata": {
        "colab": {
          "base_uri": "https://localhost:8080/"
        },
        "id": "ZaZLZFy7CAx_",
        "outputId": "7247a7d0-a43e-4b72-d11d-ad611943a74b"
      },
      "source": [
        "bio = {\"roll\": 2185000, \"name\": 'Joker', \"class\": \"IT\"}\n",
        "bio"
      ],
      "execution_count": null,
      "outputs": [
        {
          "output_type": "execute_result",
          "data": {
            "text/plain": [
              "{'class': 'IT', 'name': 'Joker', 'roll': 2185000}"
            ]
          },
          "metadata": {
            "tags": []
          },
          "execution_count": 60
        }
      ]
    },
    {
      "cell_type": "markdown",
      "metadata": {
        "id": "4lJa7zdm_jHr"
      },
      "source": [
        "Ittration Types"
      ]
    },
    {
      "cell_type": "code",
      "metadata": {
        "colab": {
          "base_uri": "https://localhost:8080/"
        },
        "id": "jeSjTAF2Dbzy",
        "outputId": "58280571-c4a3-4d1f-a3a1-5956502adea9"
      },
      "source": [
        "for key in bio.keys():\n",
        "  print(key)"
      ],
      "execution_count": null,
      "outputs": [
        {
          "output_type": "stream",
          "text": [
            "roll\n",
            "name\n",
            "class\n"
          ],
          "name": "stdout"
        }
      ]
    },
    {
      "cell_type": "code",
      "metadata": {
        "colab": {
          "base_uri": "https://localhost:8080/"
        },
        "id": "AHMJRnP4Djpp",
        "outputId": "2938795d-4f74-4128-94da-b395a1710d77"
      },
      "source": [
        "for value in bio.values():\n",
        "  print(value)"
      ],
      "execution_count": null,
      "outputs": [
        {
          "output_type": "stream",
          "text": [
            "2185000\n",
            "Joker\n",
            "IT\n"
          ],
          "name": "stdout"
        }
      ]
    },
    {
      "cell_type": "code",
      "metadata": {
        "colab": {
          "base_uri": "https://localhost:8080/"
        },
        "id": "fvcbSUYWDpBy",
        "outputId": "0bb4813a-afec-4656-dafb-8b667186d9ab"
      },
      "source": [
        "for k,v in bio.items():\n",
        "  print(k, v)"
      ],
      "execution_count": null,
      "outputs": [
        {
          "output_type": "stream",
          "text": [
            "roll 2185000\n",
            "name Joker\n",
            "class IT\n"
          ],
          "name": "stdout"
        }
      ]
    },
    {
      "cell_type": "code",
      "metadata": {
        "colab": {
          "base_uri": "https://localhost:8080/",
          "height": 35
        },
        "id": "xKq8-RnqDwEM",
        "outputId": "9e7cd4ac-de6b-4e60-e87c-f5178d6632c6"
      },
      "source": [
        "# Access element\n",
        "bio['name']\n",
        "\n",
        "bio.get('name')"
      ],
      "execution_count": null,
      "outputs": [
        {
          "output_type": "execute_result",
          "data": {
            "application/vnd.google.colaboratory.intrinsic+json": {
              "type": "string"
            },
            "text/plain": [
              "'Joker'"
            ]
          },
          "metadata": {
            "tags": []
          },
          "execution_count": 56
        }
      ]
    },
    {
      "cell_type": "code",
      "metadata": {
        "id": "ncgeaTZWEN66",
        "colab": {
          "base_uri": "https://localhost:8080/"
        },
        "outputId": "7f6174f6-e9f9-4258-c619-5a94fac5f12d"
      },
      "source": [
        "# Update Dict\n",
        "bio.update({'roll':2134})\n",
        "bio"
      ],
      "execution_count": null,
      "outputs": [
        {
          "output_type": "execute_result",
          "data": {
            "text/plain": [
              "{'class': 'IT', 'name': 'Joker', 'roll': 2134}"
            ]
          },
          "metadata": {
            "tags": []
          },
          "execution_count": 61
        }
      ]
    },
    {
      "cell_type": "code",
      "metadata": {
        "id": "doWKztdQEv1D",
        "colab": {
          "base_uri": "https://localhost:8080/",
          "height": 195
        },
        "outputId": "6fcc1e62-8d52-4d3a-a232-993ee009acf7"
      },
      "source": [
        "# Pop\n",
        "bio.pop('name')"
      ],
      "execution_count": null,
      "outputs": [
        {
          "output_type": "error",
          "ename": "KeyError",
          "evalue": "ignored",
          "traceback": [
            "\u001b[0;31m---------------------------------------------------------------------------\u001b[0m",
            "\u001b[0;31mKeyError\u001b[0m                                  Traceback (most recent call last)",
            "\u001b[0;32m<ipython-input-63-8117e8c23363>\u001b[0m in \u001b[0;36m<module>\u001b[0;34m()\u001b[0m\n\u001b[1;32m      1\u001b[0m \u001b[0;31m# Pop\u001b[0m\u001b[0;34m\u001b[0m\u001b[0;34m\u001b[0m\u001b[0;34m\u001b[0m\u001b[0m\n\u001b[0;32m----> 2\u001b[0;31m \u001b[0mbio\u001b[0m\u001b[0;34m.\u001b[0m\u001b[0mpop\u001b[0m\u001b[0;34m(\u001b[0m\u001b[0;34m'name'\u001b[0m\u001b[0;34m)\u001b[0m\u001b[0;34m\u001b[0m\u001b[0;34m\u001b[0m\u001b[0m\n\u001b[0m\u001b[1;32m      3\u001b[0m \u001b[0mbio\u001b[0m\u001b[0;34m\u001b[0m\u001b[0;34m\u001b[0m\u001b[0m\n",
            "\u001b[0;31mKeyError\u001b[0m: 'name'"
          ]
        }
      ]
    },
    {
      "cell_type": "code",
      "metadata": {
        "colab": {
          "base_uri": "https://localhost:8080/"
        },
        "id": "90Ejzct_UE-i",
        "outputId": "6d17b679-9abc-4c68-ae4e-7bdb4feeec90"
      },
      "source": [
        "bio"
      ],
      "execution_count": null,
      "outputs": [
        {
          "output_type": "execute_result",
          "data": {
            "text/plain": [
              "{'class': 'IT', 'roll': 2134}"
            ]
          },
          "metadata": {
            "tags": []
          },
          "execution_count": 64
        }
      ]
    },
    {
      "cell_type": "code",
      "metadata": {
        "id": "rUqLwomhE1HA",
        "colab": {
          "base_uri": "https://localhost:8080/"
        },
        "outputId": "d4a54fb5-85fd-42f2-eaf3-ee69b4f79670"
      },
      "source": [
        "# Pop last item\n",
        "bio.popitem()"
      ],
      "execution_count": null,
      "outputs": [
        {
          "output_type": "execute_result",
          "data": {
            "text/plain": [
              "('class', 'IT')"
            ]
          },
          "metadata": {
            "tags": []
          },
          "execution_count": 65
        }
      ]
    },
    {
      "cell_type": "code",
      "metadata": {
        "id": "OVPOrZCGE7nq"
      },
      "source": [
        "# del bio['name']"
      ],
      "execution_count": null,
      "outputs": []
    },
    {
      "cell_type": "code",
      "metadata": {
        "id": "HkKGz6tBE_Kk"
      },
      "source": [
        "bio.clear()"
      ],
      "execution_count": null,
      "outputs": []
    },
    {
      "cell_type": "code",
      "metadata": {
        "id": "qNew9nWVFBAf"
      },
      "source": [
        "updated = bio.copy()"
      ],
      "execution_count": null,
      "outputs": []
    },
    {
      "cell_type": "code",
      "metadata": {
        "colab": {
          "base_uri": "https://localhost:8080/"
        },
        "id": "EtnHL7BxFREm",
        "outputId": "d82b19ed-bc3d-4e33-9dbc-c3560c233453"
      },
      "source": [
        "updated"
      ],
      "execution_count": null,
      "outputs": [
        {
          "output_type": "execute_result",
          "data": {
            "text/plain": [
              "{}"
            ]
          },
          "metadata": {
            "tags": []
          },
          "execution_count": 237
        }
      ]
    },
    {
      "cell_type": "markdown",
      "metadata": {
        "id": "9TLxyaso5IzT"
      },
      "source": [
        "# **Functions**"
      ]
    },
    {
      "cell_type": "code",
      "metadata": {
        "id": "dp7stusiFR7x",
        "colab": {
          "base_uri": "https://localhost:8080/"
        },
        "outputId": "37c635fb-5c74-4792-9291-a2ac033763d6"
      },
      "source": [
        "# Function defination and call\n",
        "def function():\n",
        "  return 10\n",
        "  \n",
        "print(function())"
      ],
      "execution_count": null,
      "outputs": [
        {
          "output_type": "stream",
          "text": [
            "10\n"
          ],
          "name": "stdout"
        }
      ]
    },
    {
      "cell_type": "code",
      "metadata": {
        "id": "N8BxluGE8r9v",
        "colab": {
          "base_uri": "https://localhost:8080/"
        },
        "outputId": "938d6f63-2d8d-484f-86be-605cb8a0f2f7"
      },
      "source": [
        "# Passing arguments\n",
        "def function(roll,name=\"XYZ\"):\n",
        "  print(\"Name : \",name)\n",
        "  print(\"Roll : \",roll)\n",
        "\n",
        "function(2185050, \"Taha\")"
      ],
      "execution_count": null,
      "outputs": [
        {
          "output_type": "stream",
          "text": [
            "Name :  Taha\n",
            "Roll :  2185050\n"
          ],
          "name": "stdout"
        }
      ]
    },
    {
      "cell_type": "code",
      "metadata": {
        "id": "BOUGVUzC9Zng",
        "colab": {
          "base_uri": "https://localhost:8080/"
        },
        "outputId": "2480ca81-5ae7-4c7d-a6bb-b82a7ea80f95"
      },
      "source": [
        "# Dynamic arguments\n",
        "def function(*args):\n",
        "  # args are of type tuple\n",
        "  print(\"args type : \",type(args))\n",
        "\n",
        "  for i in range(len(args)):\n",
        "    print(\"Argument \",i,\" : \",args[i])\n",
        "  \n",
        "function(\"A\",\"B\",\"C\",\"D\",\"E\")"
      ],
      "execution_count": null,
      "outputs": [
        {
          "output_type": "stream",
          "text": [
            "args type :  <class 'tuple'>\n",
            "Argument  0  :  A\n",
            "Argument  1  :  B\n",
            "Argument  2  :  C\n",
            "Argument  3  :  D\n",
            "Argument  4  :  E\n"
          ],
          "name": "stdout"
        }
      ]
    },
    {
      "cell_type": "markdown",
      "metadata": {
        "id": "SDmhxz97_XLy"
      },
      "source": [
        "# **Classes**"
      ]
    },
    {
      "cell_type": "code",
      "metadata": {
        "colab": {
          "base_uri": "https://localhost:8080/"
        },
        "id": "BGc_Y0-79732",
        "outputId": "6e7476df-8a15-4d4e-eb5a-a927c585b9bd"
      },
      "source": [
        "class Class:\n",
        "  x = \"Sp\"\n",
        "\n",
        "c = Class()\n",
        "print(c.x)"
      ],
      "execution_count": null,
      "outputs": [
        {
          "output_type": "stream",
          "text": [
            "Sp\n"
          ],
          "name": "stdout"
        }
      ]
    },
    {
      "cell_type": "code",
      "metadata": {
        "colab": {
          "base_uri": "https://localhost:8080/"
        },
        "id": "nua0bubXI4gu",
        "outputId": "20a52adf-b94a-4d0c-c1a0-9e6899413806"
      },
      "source": [
        "type(Class())"
      ],
      "execution_count": null,
      "outputs": [
        {
          "output_type": "execute_result",
          "data": {
            "text/plain": [
              "__main__.Class"
            ]
          },
          "metadata": {
            "tags": []
          },
          "execution_count": 81
        }
      ]
    },
    {
      "cell_type": "code",
      "metadata": {
        "colab": {
          "base_uri": "https://localhost:8080/"
        },
        "id": "DxxZSLn4KJEA",
        "outputId": "2757fe4f-c6c2-45eb-aaeb-2222d26ca56f"
      },
      "source": [
        "# __init__ function\n",
        "class Class:\n",
        "  def __init__(self, name, roll):\n",
        "    self.name = name\n",
        "    self.roll = roll\n",
        "    print(\"Name : \",name)\n",
        "    print(\"Roll : \",roll)\n",
        "\n",
        "c = Class(\"SP\",29)\n",
        "c1 = Class(\"SP\",29)"
      ],
      "execution_count": null,
      "outputs": [
        {
          "output_type": "stream",
          "text": [
            "Name :  SP\n",
            "Roll :  29\n"
          ],
          "name": "stdout"
        },
        {
          "output_type": "execute_result",
          "data": {
            "text/plain": [
              "<__main__.Class at 0x7fb0635524d0>"
            ]
          },
          "metadata": {
            "tags": []
          },
          "execution_count": 86
        }
      ]
    },
    {
      "cell_type": "code",
      "metadata": {
        "colab": {
          "base_uri": "https://localhost:8080/"
        },
        "id": "zU-wfXFNMMLH",
        "outputId": "c195ab01-ba20-49ef-d05b-933b274d819d"
      },
      "source": [
        "print(c.name)\n",
        "print(c.roll)"
      ],
      "execution_count": null,
      "outputs": [
        {
          "output_type": "stream",
          "text": [
            "SP\n",
            "29\n"
          ],
          "name": "stdout"
        }
      ]
    },
    {
      "cell_type": "code",
      "metadata": {
        "colab": {
          "base_uri": "https://localhost:8080/"
        },
        "id": "DEQqMZ40MqmD",
        "outputId": "d16116fb-6788-4d04-8be0-a145fb1b9847"
      },
      "source": [
        "class Class:\n",
        "  def __init__(self, name, roll):\n",
        "    print(\"Name : \",name)\n",
        "    print(\"Roll : \",roll)\n",
        "    self.name = name\n",
        "    self.roll = roll\n",
        "  \n",
        "  def get(self):\n",
        "    d = { \"Name\" : self.name,\n",
        "          \"Roll\" : self.roll }\n",
        "    return \"fewd\"\n",
        "\n",
        "c = Class(\"SP\",17)\n",
        "print(c.get())"
      ],
      "execution_count": null,
      "outputs": [
        {
          "output_type": "stream",
          "text": [
            "Name :  SP\n",
            "Roll :  17\n",
            "fewd\n"
          ],
          "name": "stdout"
        }
      ]
    },
    {
      "cell_type": "code",
      "metadata": {
        "colab": {
          "base_uri": "https://localhost:8080/"
        },
        "id": "-w4HXdqDNuwz",
        "outputId": "01032843-2dc2-4499-ed42-341d99fe9b46"
      },
      "source": [
        "class Class:\n",
        "  def func(name,roll):\n",
        "    n = name\n",
        "    r = roll\n",
        "    print(n)\n",
        "    print(r)\n",
        "\n",
        "c = Class.func(\"Sp\",213)"
      ],
      "execution_count": null,
      "outputs": [
        {
          "output_type": "stream",
          "text": [
            "Sp\n",
            "213\n"
          ],
          "name": "stdout"
        }
      ]
    },
    {
      "cell_type": "code",
      "metadata": {
        "id": "ZpMh3mslO8mG"
      },
      "source": [
        ""
      ],
      "execution_count": null,
      "outputs": []
    }
  ]
}